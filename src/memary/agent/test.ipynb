{
 "cells": [
  {
   "cell_type": "code",
   "execution_count": 1,
   "metadata": {},
   "outputs": [],
   "source": [
    "from dotenv import load_dotenv\n",
    "import os\n",
    "from llama_index.graph_stores.neo4j import Neo4jPropertyGraphStore\n",
    "\n",
    "load_dotenv()\n",
    "neo4j_username = \"neo4j\"\n",
    "neo4j_password = os.getenv(\"NEO4J_PW\")\n",
    "neo4j_url = os.getenv(\"NEO4J_URL\")\n",
    "\n",
    "graph_store = Neo4jPropertyGraphStore(\n",
    "    username=neo4j_username,\n",
    "    password=neo4j_password,\n",
    "    url=neo4j_url,\n",
    ")"
   ]
  },
  {
   "cell_type": "code",
   "execution_count": null,
   "metadata": {},
   "outputs": [],
   "source": []
  }
 ],
 "metadata": {
  "kernelspec": {
   "display_name": ".venv",
   "language": "python",
   "name": "python3"
  },
  "language_info": {
   "codemirror_mode": {
    "name": "ipython",
    "version": 3
   },
   "file_extension": ".py",
   "mimetype": "text/x-python",
   "name": "python",
   "nbconvert_exporter": "python",
   "pygments_lexer": "ipython3",
   "version": "3.11.6"
  }
 },
 "nbformat": 4,
 "nbformat_minor": 2
}
